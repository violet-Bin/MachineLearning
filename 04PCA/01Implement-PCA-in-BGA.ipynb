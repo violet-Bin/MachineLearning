{
 "cells": [
  {
   "cell_type": "markdown",
   "metadata": {},
   "source": [
    "### 使用梯度上升法实现PCA"
   ]
  },
  {
   "cell_type": "code",
   "execution_count": 14,
   "metadata": {},
   "outputs": [],
   "source": [
    "import numpy as np\n",
    "import matplotlib.pyplot as plt"
   ]
  },
  {
   "cell_type": "code",
   "execution_count": 15,
   "metadata": {},
   "outputs": [],
   "source": [
    "X = np.empty((100, 2))\n",
    "X[:, 0] = np.random.uniform(0., 100., size=100)\n",
    "X[:, 1] = 0.75 * X[:, 0] + 3. + np.random.normal(0, 10., size=100)"
   ]
  },
  {
   "cell_type": "code",
   "execution_count": 16,
   "metadata": {},
   "outputs": [
    {
     "data": {
      "text/plain": [
       "<matplotlib.collections.PathCollection at 0x2a851cb5be0>"
      ]
     },
     "execution_count": 16,
     "metadata": {},
     "output_type": "execute_result"
    },
    {
     "data": {
      "image/png": "[encoded data removed]",
      "text/plain": [
       "<Figure size 432x288 with 1 Axes>"
      ]
     },
     "metadata": {
      "needs_background": "light"
     },
     "output_type": "display_data"
    }
   ],
   "source": [
    "plt.scatter(X[:, 0], X[:, 1])"
   ]
  },
  {
   "cell_type": "markdown",
   "metadata": {},
   "source": [
    "### demean"
   ]
  },
  {
   "cell_type": "code",
   "execution_count": 17,
   "metadata": {},
   "outputs": [],
   "source": [
    "def demean(X):\n",
    "    return X - np.mean(X, axis=0)"
   ]
  },
  {
   "cell_type": "code",
   "execution_count": 21,
   "metadata": {},
   "outputs": [
    {
     "data": {
      "text/plain": [
       "array([[47.5142543 , 27.76986478],\n",
       "       [15.84141577, 32.00413375],\n",
       "       [13.39190257,  9.36977492],\n",
       "       [ 2.00392229,  7.18323717],\n",
       "       [65.92330328, 67.45677358],\n",
       "       [66.67280908, 53.15438105],\n",
       "       [ 7.61481996, 12.68019579],\n",
       "       [37.06288022, 32.69999673],\n",
       "       [19.95620199, 20.6181564 ],\n",
       "       [31.45578973, 21.51255616],\n",
       "       [77.05758525, 61.60767718],\n",
       "       [32.9842049 , 17.66416605],\n",
       "       [30.17763015, 28.70923358],\n",
       "       [80.60983666, 90.11189532],\n",
       "       [66.41189107, 45.81084822],\n",
       "       [ 5.4927795 , 10.99824501],\n",
       "       [79.16485631, 48.77883568],\n",
       "       [32.1319614 , 22.51712389],\n",
       "       [16.53608586, 12.88581358],\n",
       "       [ 2.83514098, 14.17326901],\n",
       "       [50.23630611, 17.61075426],\n",
       "       [60.36635377, 49.10935915],\n",
       "       [53.60464603, 40.18097996],\n",
       "       [15.55437052, 13.11782335],\n",
       "       [40.41928931, 41.23452027],\n",
       "       [ 9.92947759,  6.9509051 ],\n",
       "       [30.41806538, 15.01629502],\n",
       "       [64.15801608, 51.57562808],\n",
       "       [47.52428503, 44.14880439],\n",
       "       [94.35755696, 61.39926933],\n",
       "       [68.25488731, 59.7569418 ],\n",
       "       [53.20527209, 45.22790327],\n",
       "       [ 4.29984949, -1.7015951 ],\n",
       "       [76.21807523, 74.95056708],\n",
       "       [72.85391881, 47.58963784],\n",
       "       [84.46786285, 60.96768662],\n",
       "       [61.77025991, 48.1718666 ],\n",
       "       [37.69587035, 29.26638317],\n",
       "       [90.72543036, 81.59538942],\n",
       "       [17.46265742, 25.4782386 ],\n",
       "       [24.78618167, 11.3579826 ],\n",
       "       [61.07099769, 42.47710908],\n",
       "       [58.94774701, 45.50551754],\n",
       "       [66.11060453, 56.24553476],\n",
       "       [14.2727206 , -0.33589263],\n",
       "       [ 2.9544975 , 12.31005742],\n",
       "       [62.52472458, 46.75435509],\n",
       "       [44.13419744, 47.60969752],\n",
       "       [90.77925804, 76.44234919],\n",
       "       [76.28968215, 80.60668419],\n",
       "       [20.5588936 , 22.09909344],\n",
       "       [18.89029228, 16.72365991],\n",
       "       [93.30860498, 49.64038027],\n",
       "       [30.5813569 , 53.23795092],\n",
       "       [48.99332093, 26.88010055],\n",
       "       [70.18663433, 66.78799691],\n",
       "       [93.4810751 , 72.11776027],\n",
       "       [47.27889526, 43.31706385],\n",
       "       [25.14461578, 31.61945902],\n",
       "       [ 0.17486585,  0.19639294],\n",
       "       [40.55659017, 26.41634887],\n",
       "       [95.71236505, 71.27861361],\n",
       "       [65.80621505, 64.67960778],\n",
       "       [59.57131449, 59.30506808],\n",
       "       [37.71871616, 31.18155823],\n",
       "       [43.27679201, 32.76365457],\n",
       "       [38.06222433, 30.77219635],\n",
       "       [73.74908298, 43.05318267],\n",
       "       [87.03936211, 69.65017429],\n",
       "       [74.56098266, 49.56042782],\n",
       "       [81.44376435, 63.38398244],\n",
       "       [87.13571782, 71.89951237],\n",
       "       [14.8618442 , 19.85274606],\n",
       "       [83.60568532, 67.77305621],\n",
       "       [37.92728331, 39.43132326],\n",
       "       [ 7.25556864,  8.64146639],\n",
       "       [14.41499147, 16.92105216],\n",
       "       [33.67468449, 22.69779437],\n",
       "       [94.11797996, 88.18328047],\n",
       "       [30.30930876, 36.26747116],\n",
       "       [48.49087214, 32.54292527],\n",
       "       [92.24778979, 73.20974449],\n",
       "       [97.1556714 , 66.65647263],\n",
       "       [59.58377355, 53.32589116],\n",
       "       [70.6836118 , 64.86955022],\n",
       "       [27.95483716, 33.56513786],\n",
       "       [83.39206058, 90.7898478 ],\n",
       "       [37.42028658, 19.9610777 ],\n",
       "       [81.81654618, 70.46162834],\n",
       "       [17.70815419, 18.30043234],\n",
       "       [33.66051753, 33.43170721],\n",
       "       [69.23580583, 58.39836991],\n",
       "       [71.43267527, 56.47068939],\n",
       "       [ 3.7643133 ,  4.21687085],\n",
       "       [30.08614918, 35.0880917 ],\n",
       "       [41.68491679, 45.8398538 ],\n",
       "       [46.66506467, 47.3610034 ],\n",
       "       [44.85408741, 18.11017832],\n",
       "       [35.86779084, 38.66842651],\n",
       "       [16.06595067, 32.88558246]])"
      ]
     },
     "execution_count": 21,
     "metadata": {},
     "output_type": "execute_result"
    }
   ],
   "source": [
    "X"
   ]
  },
  {
   "cell_type": "code",
   "execution_count": 19,
   "metadata": {},
   "outputs": [
    {
     "data": {
      "text/plain": [
       "array([48.25402236, 40.58812787])"
      ]
     },
     "execution_count": 19,
     "metadata": {},
     "output_type": "execute_result"
    }
   ],
   "source": [
    "np.mean(X, axis=0)"
   ]
  },
  {
   "cell_type": "code",
   "execution_count": 20,
   "metadata": {},
   "outputs": [
    {
     "data": {
      "text/plain": [
       "array([[ -0.73976807, -12.8182631 ],\n",
       "       [-32.4126066 ,  -8.58399413],\n",
       "       [-34.86211979, -31.21835295],\n",
       "       [-46.25010007, -33.4048907 ],\n",
       "       [ 17.66928091,  26.86864571],\n",
       "       [ 18.41878672,  12.56625317],\n",
       "       [-40.63920241, -27.90793208],\n",
       "       [-11.19114214,  -7.88813115],\n",
       "       [-28.29782037, -19.96997148],\n",
       "       [-16.79823264, -19.07557172],\n",
       "       [ 28.80356289,  21.01954931],\n",
       "       [-15.26981746, -22.92396182],\n",
       "       [-18.07639222, -11.8788943 ],\n",
       "       [ 32.35581429,  49.52376744],\n",
       "       [ 18.15786871,   5.22272035],\n",
       "       [-42.76124286, -29.58988286],\n",
       "       [ 30.91083394,   8.19070781],\n",
       "       [-16.12206097, -18.07100399],\n",
       "       [-31.7179365 , -27.70231429],\n",
       "       [-45.41888139, -26.41485886],\n",
       "       [  1.98228375, -22.97737361],\n",
       "       [ 12.1123314 ,   8.52123127],\n",
       "       [  5.35062367,  -0.40714791],\n",
       "       [-32.69965184, -27.47030452],\n",
       "       [ -7.83473305,   0.6463924 ],\n",
       "       [-38.32454478, -33.63722277],\n",
       "       [-17.83595698, -25.57183285],\n",
       "       [ 15.90399371,  10.98750021],\n",
       "       [ -0.72973733,   3.56067651],\n",
       "       [ 46.1035346 ,  20.81114146],\n",
       "       [ 20.00086495,  19.16881392],\n",
       "       [  4.95124973,   4.63977539],\n",
       "       [-43.95417287, -42.28972297],\n",
       "       [ 27.96405287,  34.3624392 ],\n",
       "       [ 24.59989645,   7.00150996],\n",
       "       [ 36.21384049,  20.37955875],\n",
       "       [ 13.51623755,   7.58373872],\n",
       "       [-10.55815202, -11.32174471],\n",
       "       [ 42.471408  ,  41.00726154],\n",
       "       [-30.79136494, -15.10988928],\n",
       "       [-23.46784069, -29.23014527],\n",
       "       [ 12.81697533,   1.88898121],\n",
       "       [ 10.69372465,   4.91738967],\n",
       "       [ 17.85658217,  15.65740688],\n",
       "       [-33.98130176, -40.92402051],\n",
       "       [-45.29952486, -28.27807045],\n",
       "       [ 14.27070222,   6.16622722],\n",
       "       [ -4.11982493,   7.02156965],\n",
       "       [ 42.52523568,  35.85422131],\n",
       "       [ 28.03565979,  40.01855632],\n",
       "       [-27.69512877, -18.48903444],\n",
       "       [-29.36373008, -23.86446797],\n",
       "       [ 45.05458262,   9.0522524 ],\n",
       "       [-17.67266546,  12.64982305],\n",
       "       [  0.73929857, -13.70802732],\n",
       "       [ 21.93261197,  26.19986904],\n",
       "       [ 45.22705274,  31.5296324 ],\n",
       "       [ -0.9751271 ,   2.72893598],\n",
       "       [-23.10940658,  -8.96866885],\n",
       "       [-48.07915652, -40.39173494],\n",
       "       [ -7.69743219, -14.171779  ],\n",
       "       [ 47.45834269,  30.69048574],\n",
       "       [ 17.55219269,  24.0914799 ],\n",
       "       [ 11.31729213,  18.71694021],\n",
       "       [-10.53530621,  -9.40656964],\n",
       "       [ -4.97723036,  -7.8244733 ],\n",
       "       [-10.19179803,  -9.81593153],\n",
       "       [ 25.49506062,   2.4650548 ],\n",
       "       [ 38.78533975,  29.06204642],\n",
       "       [ 26.3069603 ,   8.97229995],\n",
       "       [ 33.18974198,  22.79585456],\n",
       "       [ 38.88169546,  31.3113845 ],\n",
       "       [-33.39217816, -20.73538181],\n",
       "       [ 35.35166296,  27.18492834],\n",
       "       [-10.32673905,  -1.15680462],\n",
       "       [-40.99845373, -31.94666149],\n",
       "       [-33.83903089, -23.66707572],\n",
       "       [-14.57933787, -17.8903335 ],\n",
       "       [ 45.8639576 ,  47.5951526 ],\n",
       "       [-17.9447136 ,  -4.32065671],\n",
       "       [  0.23684977,  -8.0452026 ],\n",
       "       [ 43.99376743,  32.62161661],\n",
       "       [ 48.90164904,  26.06834475],\n",
       "       [ 11.32975119,  12.73776328],\n",
       "       [ 22.42958944,  24.28142235],\n",
       "       [-20.2991852 ,  -7.02299001],\n",
       "       [ 35.13803822,  50.20171993],\n",
       "       [-10.83373578, -20.62705017],\n",
       "       [ 33.56252382,  29.87350047],\n",
       "       [-30.54586817, -22.28769554],\n",
       "       [-14.59350483,  -7.15642066],\n",
       "       [ 20.98178347,  17.81024204],\n",
       "       [ 23.1786529 ,  15.88256151],\n",
       "       [-44.48970907, -36.37125703],\n",
       "       [-18.16787318,  -5.50003618],\n",
       "       [ -6.56910557,   5.25172593],\n",
       "       [ -1.5889577 ,   6.77287553],\n",
       "       [ -3.39993495, -22.47794956],\n",
       "       [-12.38623152,  -1.91970136],\n",
       "       [-32.18807169,  -7.70254541]])"
      ]
     },
     "execution_count": 20,
     "metadata": {},
     "output_type": "execute_result"
    }
   ],
   "source": [
    "X - np.mean(X, axis=0)"
   ]
  },
  {
   "cell_type": "code",
   "execution_count": 22,
   "metadata": {},
   "outputs": [],
   "source": [
    "X_demean = demean(X)"
   ]
  },
  {
   "cell_type": "code",
   "execution_count": 23,
   "metadata": {},
   "outputs": [
    {
     "data": {
      "text/plain": [
       "<matplotlib.collections.PathCollection at 0x2a851d0ccf8>"
      ]
     },
     "execution_count": 23,
     "metadata": {},
     "output_type": "execute_result"
    },
    {
     "data": {
      "image/png": "[encoded data removed]",
      "text/plain": [
       "<Figure size 432x288 with 1 Axes>"
      ]
     },
     "metadata": {
      "needs_background": "light"
     },
     "output_type": "display_data"
    }
   ],
   "source": [
    "plt.scatter(X_demean[:,0], X_demean[:,1])"
   ]
  },
  {
   "cell_type": "code",
   "execution_count": 24,
   "metadata": {},
   "outputs": [
    {
     "data": {
      "text/plain": [
       "-1.6484591469634323e-14"
      ]
     },
     "execution_count": 24,
     "metadata": {},
     "output_type": "execute_result"
    }
   ],
   "source": [
    "np.mean(X_demean[:,0])"
   ]
  },
  {
   "cell_type": "code",
   "execution_count": 25,
   "metadata": {},
   "outputs": [
    {
     "data": {
      "text/plain": [
       "-8.171241461241152e-15"
      ]
     },
     "execution_count": 25,
     "metadata": {},
     "output_type": "execute_result"
    }
   ],
   "source": [
    "np.mean(X_demean[:,1])"
   ]
  },
  {
   "cell_type": "markdown",
   "metadata": {},
   "source": [
    "### 梯度上升法"
   ]
  },
  {
   "cell_type": "code",
   "execution_count": 27,
   "metadata": {},
   "outputs": [],
   "source": [
    "def f(w, X):\n",
    "    return np.sum(X.dot(w) ** 2) / len(X)"
   ]
  },
  {
   "cell_type": "code",
   "execution_count": 28,
   "metadata": {},
   "outputs": [],
   "source": [
    "def df_math(w, X):\n",
    "    return X.T.dot(X.dot(w)) * 2. / len(X)"
   ]
  },
  {
   "cell_type": "code",
   "execution_count": 29,
   "metadata": {},
   "outputs": [],
   "source": [
    "def df_debug(w, X, epsilon = 0.0001):\n",
    "    res  = np.empty(len(w))\n",
    "    for i in range(len(w)):\n",
    "        w_1 = w.copy()\n",
    "        w_1[i] += epsilon\n",
    "        w_2 = w.copy()\n",
    "        w_2[i] -= epsilon\n",
    "        res[i] = (f(w_1, X) - f(w_2, X)) / (2 * epsilon)\n",
    "    return res"
   ]
  },
  {
   "cell_type": "code",
   "execution_count": 31,
   "metadata": {},
   "outputs": [],
   "source": [
    "def direction(w):\n",
    "    return w / np.linalg.norm(w)\n",
    "\n",
    "def gradient_ascent(df, X, initial_w, eta, n_iters = 1e4, epsilon=1e-8):\n",
    "    \n",
    "    w = direction(initial_w)\n",
    "    cur_iter = 0\n",
    "    \n",
    "    while cur_iter < n_iters:\n",
    "        gradient = df(w, X)\n",
    "        last_w = w\n",
    "        w = w + eta * gradient\n",
    "        w = direction(w)  # 注意1： 每次求一个单位向量\n",
    "        if (abs(f(w, X) - f(last_w, X)) < epsilon):\n",
    "            break\n",
    "        cur_iter += 1\n",
    "    return w"
   ]
  },
  {
   "cell_type": "code",
   "execution_count": 32,
   "metadata": {},
   "outputs": [
    {
     "data": {
      "text/plain": [
       "array([0.93699139, 0.18197182])"
      ]
     },
     "execution_count": 32,
     "metadata": {},
     "output_type": "execute_result"
    }
   ],
   "source": [
    "initial_w = np.random.random(X.shape[1]) # 注意2： 不能用0向量开始\n",
    "initial_w"
   ]
  },
  {
   "cell_type": "code",
   "execution_count": 33,
   "metadata": {},
   "outputs": [],
   "source": [
    "eta = 0.001"
   ]
  },
  {
   "cell_type": "code",
   "execution_count": 34,
   "metadata": {},
   "outputs": [],
   "source": [
    "# 注意3： 不能使用StandardScaler标准化数据"
   ]
  },
  {
   "cell_type": "code",
   "execution_count": 35,
   "metadata": {},
   "outputs": [
    {
     "data": {
      "text/plain": [
       "array([0.77925815, 0.62670307])"
      ]
     },
     "execution_count": 35,
     "metadata": {},
     "output_type": "execute_result"
    }
   ],
   "source": [
    "gradient_ascent(df_debug, X_demean, initial_w, eta)"
   ]
  },
  {
   "cell_type": "code",
   "execution_count": 38,
   "metadata": {},
   "outputs": [
    {
     "data": {
      "text/plain": [
       "array([0.77925815, 0.62670307])"
      ]
     },
     "execution_count": 38,
     "metadata": {},
     "output_type": "execute_result"
    }
   ],
   "source": [
    "gradient_ascent(df_math, X_demean, initial_w, eta)"
   ]
  },
  {
   "cell_type": "code",
   "execution_count": 39,
   "metadata": {},
   "outputs": [
    {
     "data": {
      "text/plain": [
       "[<matplotlib.lines.Line2D at 0x2a851d3a0b8>]"
      ]
     },
     "execution_count": 39,
     "metadata": {},
     "output_type": "execute_result"
    },
    {
     "data": {
      "image/png": "[encoded data removed]",
      "text/plain": [
       "<Figure size 432x288 with 1 Axes>"
      ]
     },
     "metadata": {
      "needs_background": "light"
     },
     "output_type": "display_data"
    }
   ],
   "source": [
    "w = gradient_ascent(df_math, X_demean, initial_w, eta)\n",
    "\n",
    "plt.scatter(X_demean[:, 0], X_demean[:, 1])\n",
    "plt.plot([0, w[0] * 30], [0, w[1] * 30], color = 'r')"
   ]
  },
  {
   "cell_type": "markdown",
   "metadata": {},
   "source": [
    "### 使用极端数据集测试"
   ]
  },
  {
   "cell_type": "code",
   "execution_count": 40,
   "metadata": {},
   "outputs": [],
   "source": [
    "X2 = np.empty((100, 2))\n",
    "X2[:,0] = np.random.uniform(0., 100., size=100)\n",
    "X2[:,1] = 0.75 * X2[:,0] + 3."
   ]
  },
  {
   "cell_type": "code",
   "execution_count": 41,
   "metadata": {},
   "outputs": [
    {
     "data": {
      "text/plain": [
       "<matplotlib.collections.PathCollection at 0x2a851ddb6a0>"
      ]
     },
     "execution_count": 41,
     "metadata": {},
     "output_type": "execute_result"
    },
    {
     "data": {
      "image/png": "[encoded data removed]",
      "text/plain": [
       "<Figure size 432x288 with 1 Axes>"
      ]
     },
     "metadata": {
      "needs_background": "light"
     },
     "output_type": "display_data"
    }
   ],
   "source": [
    "plt.scatter(X2[:,0], X2[:,1])"
   ]
  },
  {
   "cell_type": "code",
   "execution_count": 42,
   "metadata": {},
   "outputs": [],
   "source": [
    "X2_demean = demean(X2)"
   ]
  },
  {
   "cell_type": "code",
   "execution_count": 43,
   "metadata": {},
   "outputs": [
    {
     "data": {
      "text/plain": [
       "array([0.80000019, 0.59999974])"
      ]
     },
     "execution_count": 43,
     "metadata": {},
     "output_type": "execute_result"
    }
   ],
   "source": [
    "gradient_ascent(df_math, X2_demean, initial_w, eta)"
   ]
  },
  {
   "cell_type": "code",
   "execution_count": 44,
   "metadata": {},
   "outputs": [],
   "source": [
    "w2 = gradient_ascent(df_math, X2_demean, initial_w, eta)"
   ]
  },
  {
   "cell_type": "code",
   "execution_count": 45,
   "metadata": {},
   "outputs": [
    {
     "data": {
      "text/plain": [
       "[<matplotlib.lines.Line2D at 0x2a851e05ac8>]"
      ]
     },
     "execution_count": 45,
     "metadata": {},
     "output_type": "execute_result"
    },
    {
     "data": {
      "image/png": "[encoded data removed]",
      "text/plain": [
       "<Figure size 432x288 with 1 Axes>"
      ]
     },
     "metadata": {
      "needs_background": "light"
     },
     "output_type": "display_data"
    }
   ],
   "source": [
    "plt.scatter(X2_demean[:,0], X2_demean[:,1])\n",
    "plt.plot([0, w2[0]*30], [0, w2[1]*30], color='r')"
   ]
  }
 ],
 "metadata": {
  "kernelspec": {
   "display_name": "Python 3",
   "language": "python",
   "name": "python3"
  },
  "language_info": {
   "codemirror_mode": {
    "name": "ipython",
    "version": 3
   },
   "file_extension": ".py",
   "mimetype": "text/x-python",
   "name": "python",
   "nbconvert_exporter": "python",
   "pygments_lexer": "ipython3",
   "version": "3.7.0"
  }
 },
 "nbformat": 4,
 "nbformat_minor": 2
}
