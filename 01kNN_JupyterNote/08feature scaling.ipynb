{
 "cells": [
  {
   "cell_type": "markdown",
   "metadata": {},
   "source": [
    "### 数据归一化处理"
   ]
  },
  {
   "cell_type": "code",
   "execution_count": 1,
   "metadata": {},
   "outputs": [],
   "source": [
    "import numpy as np\n",
    "import matplotlib.pyplot as plt"
   ]
  },
  {
   "cell_type": "markdown",
   "metadata": {},
   "source": [
    "#### 最值归一化 Normalization"
   ]
  },
  {
   "cell_type": "code",
   "execution_count": 2,
   "metadata": {},
   "outputs": [],
   "source": [
    "x = np.random.randint(0, 100, 100)"
   ]
  },
  {
   "cell_type": "code",
   "execution_count": 3,
   "metadata": {},
   "outputs": [
    {
     "data": {
      "text/plain": [
       "array([32, 19, 49, 53, 96, 20, 78, 95,  4, 29, 32, 45, 60, 41, 13, 63, 80,\n",
       "       71, 67, 69, 26, 80, 95, 24, 21, 60, 42, 49, 48, 16, 30, 54, 56, 97,\n",
       "       48,  4, 61,  9, 97, 43, 56, 20, 69, 42, 93, 60, 32, 13, 40, 59, 34,\n",
       "        4, 54, 26,  9, 80, 82, 15, 89, 67, 62,  6, 58, 80, 62, 19, 15, 32,\n",
       "       69, 28,  1, 35, 34, 63, 76, 59, 12, 30, 16, 96, 10, 13, 37, 19, 72,\n",
       "       52, 18, 86, 60, 25, 61, 36, 77, 43, 98, 18,  3, 65, 75, 83])"
      ]
     },
     "execution_count": 3,
     "metadata": {},
     "output_type": "execute_result"
    }
   ],
   "source": [
    "x"
   ]
  },
  {
   "cell_type": "code",
   "execution_count": 4,
   "metadata": {},
   "outputs": [
    {
     "data": {
      "text/plain": [
       "array([0.31958763, 0.18556701, 0.49484536, 0.53608247, 0.97938144,\n",
       "       0.19587629, 0.79381443, 0.96907216, 0.03092784, 0.28865979,\n",
       "       0.31958763, 0.45360825, 0.60824742, 0.41237113, 0.12371134,\n",
       "       0.63917526, 0.81443299, 0.72164948, 0.68041237, 0.70103093,\n",
       "       0.25773196, 0.81443299, 0.96907216, 0.2371134 , 0.20618557,\n",
       "       0.60824742, 0.42268041, 0.49484536, 0.48453608, 0.15463918,\n",
       "       0.29896907, 0.54639175, 0.56701031, 0.98969072, 0.48453608,\n",
       "       0.03092784, 0.6185567 , 0.08247423, 0.98969072, 0.43298969,\n",
       "       0.56701031, 0.19587629, 0.70103093, 0.42268041, 0.94845361,\n",
       "       0.60824742, 0.31958763, 0.12371134, 0.40206186, 0.59793814,\n",
       "       0.34020619, 0.03092784, 0.54639175, 0.25773196, 0.08247423,\n",
       "       0.81443299, 0.83505155, 0.1443299 , 0.90721649, 0.68041237,\n",
       "       0.62886598, 0.05154639, 0.58762887, 0.81443299, 0.62886598,\n",
       "       0.18556701, 0.1443299 , 0.31958763, 0.70103093, 0.27835052,\n",
       "       0.        , 0.35051546, 0.34020619, 0.63917526, 0.77319588,\n",
       "       0.59793814, 0.11340206, 0.29896907, 0.15463918, 0.97938144,\n",
       "       0.09278351, 0.12371134, 0.37113402, 0.18556701, 0.73195876,\n",
       "       0.5257732 , 0.17525773, 0.87628866, 0.60824742, 0.24742268,\n",
       "       0.6185567 , 0.36082474, 0.78350515, 0.43298969, 1.        ,\n",
       "       0.17525773, 0.02061856, 0.65979381, 0.7628866 , 0.84536082])"
      ]
     },
     "execution_count": 4,
     "metadata": {},
     "output_type": "execute_result"
    }
   ],
   "source": [
    "(x - np.min(x)) / (np.max(x) - np.min(x))"
   ]
  },
  {
   "cell_type": "code",
   "execution_count": 58,
   "metadata": {},
   "outputs": [],
   "source": [
    "X = np.random.randint(0, 100, (50, 2))"
   ]
  },
  {
   "cell_type": "code",
   "execution_count": 59,
   "metadata": {},
   "outputs": [],
   "source": [
    "X = np.array(X, dtype=float)"
   ]
  },
  {
   "cell_type": "code",
   "execution_count": 60,
   "metadata": {},
   "outputs": [
    {
     "data": {
      "text/plain": [
       "array([[22., 80.],\n",
       "       [46., 20.],\n",
       "       [11., 19.],\n",
       "       [52., 94.],\n",
       "       [65., 51.],\n",
       "       [30., 32.],\n",
       "       [56., 85.],\n",
       "       [16., 81.],\n",
       "       [84., 27.],\n",
       "       [93., 73.]])"
      ]
     },
     "execution_count": 60,
     "metadata": {},
     "output_type": "execute_result"
    }
   ],
   "source": [
    "X[:10, :]"
   ]
  },
  {
   "cell_type": "code",
   "execution_count": 61,
   "metadata": {},
   "outputs": [
    {
     "data": {
      "text/plain": [
       "99.0"
      ]
     },
     "execution_count": 61,
     "metadata": {},
     "output_type": "execute_result"
    }
   ],
   "source": [
    "np.max(X[:,0])"
   ]
  },
  {
   "cell_type": "code",
   "execution_count": 62,
   "metadata": {},
   "outputs": [],
   "source": [
    "X[:,0] = (X[:,0] - np.min(X[:,0])) / (np.max(X[:,0]) - np.min(X[:,0]))\n",
    "X[:,1] = (X[:,1] - np.min(X[:,1])) / (np.max(X[:,1]) - np.min(X[:,1]))"
   ]
  },
  {
   "cell_type": "code",
   "execution_count": 63,
   "metadata": {},
   "outputs": [
    {
     "data": {
      "text/plain": [
       "array([[0.22222222, 0.81632653],\n",
       "       [0.46464646, 0.20408163],\n",
       "       [0.11111111, 0.19387755],\n",
       "       [0.52525253, 0.95918367],\n",
       "       [0.65656566, 0.52040816],\n",
       "       [0.3030303 , 0.32653061],\n",
       "       [0.56565657, 0.86734694],\n",
       "       [0.16161616, 0.82653061],\n",
       "       [0.84848485, 0.2755102 ],\n",
       "       [0.93939394, 0.74489796]])"
      ]
     },
     "execution_count": 63,
     "metadata": {},
     "output_type": "execute_result"
    }
   ],
   "source": [
    "X[:10,:]"
   ]
  },
  {
   "cell_type": "code",
   "execution_count": 64,
   "metadata": {},
   "outputs": [
    {
     "data": {
      "text/plain": [
       "<matplotlib.collections.PathCollection at 0x2dba07abd68>"
      ]
     },
     "execution_count": 64,
     "metadata": {},
     "output_type": "execute_result"
    },
    {
     "data": {
      "image/png": "[encoded data removed]",
      "text/plain": [
       "<Figure size 432x288 with 1 Axes>"
      ]
     },
     "metadata": {
      "needs_background": "light"
     },
     "output_type": "display_data"
    }
   ],
   "source": [
    "plt.scatter(X[:,0], X[:,1])"
   ]
  },
  {
   "cell_type": "code",
   "execution_count": 65,
   "metadata": {},
   "outputs": [
    {
     "data": {
      "text/plain": [
       "0.47696969696969693"
      ]
     },
     "execution_count": 65,
     "metadata": {},
     "output_type": "execute_result"
    }
   ],
   "source": [
    "np.mean(X[:,0])"
   ]
  },
  {
   "cell_type": "code",
   "execution_count": 66,
   "metadata": {},
   "outputs": [
    {
     "data": {
      "text/plain": [
       "0.2786508959323432"
      ]
     },
     "execution_count": 66,
     "metadata": {},
     "output_type": "execute_result"
    }
   ],
   "source": [
    "np.std(X[:,0])"
   ]
  },
  {
   "cell_type": "code",
   "execution_count": 67,
   "metadata": {},
   "outputs": [
    {
     "data": {
      "text/plain": [
       "0.5057142857142857"
      ]
     },
     "execution_count": 67,
     "metadata": {},
     "output_type": "execute_result"
    }
   ],
   "source": [
    "np.mean(X[:,1])"
   ]
  },
  {
   "cell_type": "code",
   "execution_count": 68,
   "metadata": {},
   "outputs": [
    {
     "data": {
      "text/plain": [
       "0.3255991817485909"
      ]
     },
     "execution_count": 68,
     "metadata": {},
     "output_type": "execute_result"
    }
   ],
   "source": [
    "np.std(X[:,1])"
   ]
  },
  {
   "cell_type": "markdown",
   "metadata": {},
   "source": [
    "#### 均值方差归一化 Standardization  (均值为0，方差为1)"
   ]
  },
  {
   "cell_type": "code",
   "execution_count": 85,
   "metadata": {},
   "outputs": [],
   "source": [
    "X2 = np.random.randint(0, 100, (500, 2))"
   ]
  },
  {
   "cell_type": "code",
   "execution_count": 86,
   "metadata": {},
   "outputs": [],
   "source": [
    "X2 = np.array(X2, dtype=float)"
   ]
  },
  {
   "cell_type": "code",
   "execution_count": 87,
   "metadata": {},
   "outputs": [
    {
     "data": {
      "text/plain": [
       "array([[34., 32.],\n",
       "       [24., 55.],\n",
       "       [81., 53.],\n",
       "       [ 0., 12.],\n",
       "       [64., 78.],\n",
       "       [49., 79.],\n",
       "       [53., 68.],\n",
       "       [26., 71.],\n",
       "       [11., 34.],\n",
       "       [84., 82.]])"
      ]
     },
     "execution_count": 87,
     "metadata": {},
     "output_type": "execute_result"
    }
   ],
   "source": [
    "X2[:10,:]"
   ]
  },
  {
   "cell_type": "code",
   "execution_count": 88,
   "metadata": {},
   "outputs": [],
   "source": [
    "X2[:,0] = (X2[:,0] - np.mean(X2[:,0])) / np.std(X2[:,0])\n",
    "X2[:,1] = (X2[:,1] - np.mean(X2[:,1])) / np.std(X2[:,1])"
   ]
  },
  {
   "cell_type": "code",
   "execution_count": 89,
   "metadata": {},
   "outputs": [
    {
     "data": {
      "text/plain": [
       "<matplotlib.collections.PathCollection at 0x2dba092de80>"
      ]
     },
     "execution_count": 89,
     "metadata": {},
     "output_type": "execute_result"
    },
    {
     "data": {
      "image/png": "[encoded data removed]",
      "text/plain": [
       "<Figure size 432x288 with 1 Axes>"
      ]
     },
     "metadata": {
      "needs_background": "light"
     },
     "output_type": "display_data"
    }
   ],
   "source": [
    "plt.scatter(X2[:,0], X2[:,1])"
   ]
  },
  {
   "cell_type": "code",
   "execution_count": 90,
   "metadata": {},
   "outputs": [
    {
     "data": {
      "text/plain": [
       "-4.9737991503207014e-17"
      ]
     },
     "execution_count": 90,
     "metadata": {},
     "output_type": "execute_result"
    }
   ],
   "source": [
    "np.mean(X2[:,0])"
   ]
  },
  {
   "cell_type": "code",
   "execution_count": 91,
   "metadata": {},
   "outputs": [
    {
     "data": {
      "text/plain": [
       "1.0"
      ]
     },
     "execution_count": 91,
     "metadata": {},
     "output_type": "execute_result"
    }
   ],
   "source": [
    "np.std(X2[:,0])"
   ]
  },
  {
   "cell_type": "code",
   "execution_count": 92,
   "metadata": {},
   "outputs": [
    {
     "data": {
      "text/plain": [
       "9.237055564881302e-17"
      ]
     },
     "execution_count": 92,
     "metadata": {},
     "output_type": "execute_result"
    }
   ],
   "source": [
    "np.mean(X2[:,1])"
   ]
  },
  {
   "cell_type": "code",
   "execution_count": 93,
   "metadata": {},
   "outputs": [
    {
     "data": {
      "text/plain": [
       "0.9999999999999999"
      ]
     },
     "execution_count": 93,
     "metadata": {},
     "output_type": "execute_result"
    }
   ],
   "source": [
    "np.std(X2[:,1])"
   ]
  },
  {
   "cell_type": "code",
   "execution_count": null,
   "metadata": {},
   "outputs": [],
   "source": []
  }
 ],
 "metadata": {
  "kernelspec": {
   "display_name": "Python 3",
   "language": "python",
   "name": "python3"
  },
  "language_info": {
   "codemirror_mode": {
    "name": "ipython",
    "version": 3
   },
   "file_extension": ".py",
   "mimetype": "text/x-python",
   "name": "python",
   "nbconvert_exporter": "python",
   "pygments_lexer": "ipython3",
   "version": "3.7.0"
  }
 },
 "nbformat": 4,
 "nbformat_minor": 2
}
